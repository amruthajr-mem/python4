{
 "cells": [
  {
   "cell_type": "code",
   "execution_count": 1,
   "id": "379fe045",
   "metadata": {},
   "outputs": [
    {
     "name": "stdout",
     "output_type": "stream",
     "text": [
      "Hai\n"
     ]
    }
   ],
   "source": [
    "print(\"Hai\")"
   ]
  },
  {
   "cell_type": "code",
   "execution_count": 2,
   "id": "493a8c55",
   "metadata": {},
   "outputs": [
    {
     "name": "stdout",
     "output_type": "stream",
     "text": [
      "5 is greatest\n"
     ]
    }
   ],
   "source": [
    "if 5>2:\n",
    "    print(\"5 is greatest\")"
   ]
  },
  {
   "cell_type": "code",
   "execution_count": 6,
   "id": "51439931",
   "metadata": {},
   "outputs": [
    {
     "name": "stdout",
     "output_type": "stream",
     "text": [
      "3\n",
      "3\n",
      "5.0\n"
     ]
    }
   ],
   "source": [
    "x=str(3)\n",
    "y=int(3)\n",
    "z=float(5)\n",
    "print(x)\n",
    "print(y)\n",
    "print(z)\n"
   ]
  },
  {
   "cell_type": "code",
   "execution_count": 7,
   "id": "28f495a8",
   "metadata": {},
   "outputs": [
    {
     "name": "stdout",
     "output_type": "stream",
     "text": [
      "<class 'int'>\n",
      "<class 'str'>\n"
     ]
    }
   ],
   "source": [
    "# type() function\n",
    "x=5;\n",
    "y=\"hello Amrutha\"\n",
    "print(type(x))\n",
    "print(type(y))\n"
   ]
  },
  {
   "cell_type": "code",
   "execution_count": 8,
   "id": "29f32016",
   "metadata": {},
   "outputs": [
    {
     "name": "stdout",
     "output_type": "stream",
     "text": [
      "Hello\n",
      "hello\n"
     ]
    }
   ],
   "source": [
    "\n",
    "x=\"Hello\"\n",
    "y='hello'\n",
    "print(x)\n",
    "print(y)\n"
   ]
  },
  {
   "cell_type": "code",
   "execution_count": 9,
   "id": "77295294",
   "metadata": {},
   "outputs": [
    {
     "name": "stdout",
     "output_type": "stream",
     "text": [
      "Hello hello\n"
     ]
    }
   ],
   "source": [
    "# case sensitive\n",
    "a=5\n",
    "A=10\n",
    "print (x,y)"
   ]
  },
  {
   "cell_type": "code",
   "execution_count": 10,
   "id": "7185a265",
   "metadata": {},
   "outputs": [
    {
     "name": "stdout",
     "output_type": "stream",
     "text": [
      "Orange\n",
      "Apple\n",
      "Banana\n"
     ]
    }
   ],
   "source": [
    "x,y,z =\"Orange\", \"Apple\", \"Banana\"\n",
    "print(x)\n",
    "print(y)\n",
    "print(z)"
   ]
  },
  {
   "cell_type": "code",
   "execution_count": 11,
   "id": "05f29a6f",
   "metadata": {},
   "outputs": [
    {
     "name": "stdout",
     "output_type": "stream",
     "text": [
      "orange\n",
      "orange\n",
      "orange\n"
     ]
    }
   ],
   "source": [
    "x=y=z= \"orange\"\n",
    "print(x)\n",
    "print(y)\n",
    "print(z)\n"
   ]
  },
  {
   "cell_type": "code",
   "execution_count": 16,
   "id": "fd6ab442",
   "metadata": {},
   "outputs": [
    {
     "name": "stdout",
     "output_type": "stream",
     "text": [
      "Apple\n",
      "Oragne\n",
      "Banana\n"
     ]
    }
   ],
   "source": [
    "x,y,z= [\"Apple\",\"Oragne\",\"Banana\"]\n",
    "print(x)\n",
    "print(y)\n",
    "print(z)"
   ]
  },
  {
   "cell_type": "code",
   "execution_count": 26,
   "id": "2070035d",
   "metadata": {},
   "outputs": [
    {
     "name": "stdout",
     "output_type": "stream",
     "text": [
      "I am Amrutha J R\n"
     ]
    }
   ],
   "source": [
    "x,y,z=\"I\",\"am\" ,\"Amrutha J R\"\n",
    "print(x,y,z)\n"
   ]
  },
  {
   "cell_type": "code",
   "execution_count": 27,
   "id": "0884feb5",
   "metadata": {},
   "outputs": [
    {
     "name": "stdout",
     "output_type": "stream",
     "text": [
      "I am Amrutha J R\n"
     ]
    }
   ],
   "source": [
    "x,y,z=\"I \",\"am \" ,\"Amrutha J R\"\n",
    "print(x+ y+ z)"
   ]
  },
  {
   "cell_type": "code",
   "execution_count": 29,
   "id": "70c9b615",
   "metadata": {},
   "outputs": [
    {
     "name": "stdout",
     "output_type": "stream",
     "text": [
      "fantasitic\n",
      "awesome\n"
     ]
    }
   ],
   "source": [
    "x=\"awesome\"\n",
    "def myfunction():\n",
    "    x=\"fantasitic\"\n",
    "    print(x)\n",
    "myfunction()\n",
    "print(x)\n"
   ]
  },
  {
   "cell_type": "code",
   "execution_count": 32,
   "id": "ec47c2e8",
   "metadata": {},
   "outputs": [
    {
     "name": "stdout",
     "output_type": "stream",
     "text": [
      "5\n"
     ]
    }
   ],
   "source": [
    "def myfun():\n",
    "    global x\n",
    "    x= 5\n",
    "myfun()\n",
    "print(x)"
   ]
  },
  {
   "cell_type": "code",
   "execution_count": 34,
   "id": "444a91bf",
   "metadata": {},
   "outputs": [
    {
     "name": "stdout",
     "output_type": "stream",
     "text": [
      "hai\n",
      "5\n"
     ]
    }
   ],
   "source": [
    "x=str(\"hai\")\n",
    "print(x)\n",
    "y=int(5)\n",
    "print(y)"
   ]
  },
  {
   "cell_type": "raw",
   "id": "1bc020df",
   "metadata": {},
   "source": []
  },
  {
   "cell_type": "code",
   "execution_count": 36,
   "id": "b6f03e38",
   "metadata": {},
   "outputs": [
    {
     "name": "stdout",
     "output_type": "stream",
     "text": [
      "a\n"
     ]
    }
   ],
   "source": [
    "str1= \"Hai All\"\n",
    "print(str1[1])"
   ]
  },
  {
   "cell_type": "code",
   "execution_count": 40,
   "id": "3e4c8b8e",
   "metadata": {},
   "outputs": [
    {
     "name": "stdout",
     "output_type": "stream",
     "text": [
      "A\n"
     ]
    }
   ],
   "source": [
    "str1 = \"Hai All\"\n",
    "print(str1[4])"
   ]
  },
  {
   "cell_type": "code",
   "execution_count": 42,
   "id": "6784c8b1",
   "metadata": {},
   "outputs": [
    {
     "name": "stdout",
     "output_type": "stream",
     "text": [
      "a\n",
      "p\n",
      "p\n",
      "l\n",
      "e\n"
     ]
    }
   ],
   "source": [
    "for x in \"apple\":\n",
    "    print(x)"
   ]
  },
  {
   "cell_type": "code",
   "execution_count": 43,
   "id": "463d1753",
   "metadata": {},
   "outputs": [
    {
     "name": "stdout",
     "output_type": "stream",
     "text": [
      "5\n"
     ]
    }
   ],
   "source": [
    "x=\"Mango\"\n",
    "print(len(x))"
   ]
  },
  {
   "cell_type": "code",
   "execution_count": 45,
   "id": "79227fe7",
   "metadata": {},
   "outputs": [
    {
     "name": "stdout",
     "output_type": "stream",
     "text": [
      "True\n"
     ]
    }
   ],
   "source": [
    "x= \"Hai hello\"\n",
    "print(\"Hai\" in x)"
   ]
  },
  {
   "cell_type": "code",
   "execution_count": 46,
   "id": "90f06c13",
   "metadata": {},
   "outputs": [
    {
     "name": "stdout",
     "output_type": "stream",
     "text": [
      "True\n"
     ]
    }
   ],
   "source": [
    "x=\"Welcome all for new learning\"\n",
    "print(\"all\" in x)"
   ]
  },
  {
   "cell_type": "code",
   "execution_count": 48,
   "id": "9ea2023d",
   "metadata": {},
   "outputs": [
    {
     "name": "stdout",
     "output_type": "stream",
     "text": [
      "found\n"
     ]
    }
   ],
   "source": [
    "x=\"Hi All \"\n",
    "if \"Hi\" in  x:\n",
    "    print(\"found\")"
   ]
  },
  {
   "cell_type": "code",
   "execution_count": 49,
   "id": "129de458",
   "metadata": {},
   "outputs": [
    {
     "name": "stdout",
     "output_type": "stream",
     "text": [
      "Not found\n"
     ]
    }
   ],
   "source": [
    "x=\"hi hello Hai\"\n",
    "if \"hai\"  not in x:\n",
    "    print(\"Not found\")"
   ]
  },
  {
   "cell_type": "code",
   "execution_count": 50,
   "id": "cf970cf7",
   "metadata": {},
   "outputs": [
    {
     "name": "stdout",
     "output_type": "stream",
     "text": [
      "co\n"
     ]
    }
   ],
   "source": [
    "str1=\"Welcome all\"\n",
    "print(str1[3:5])"
   ]
  },
  {
   "cell_type": "code",
   "execution_count": 51,
   "id": "794eb205",
   "metadata": {},
   "outputs": [
    {
     "name": "stdout",
     "output_type": "stream",
     "text": [
      "Wel\n"
     ]
    }
   ],
   "source": [
    "x=\"Welcome all for new learning\"\n",
    "print(x[:3])"
   ]
  },
  {
   "cell_type": "code",
   "execution_count": 53,
   "id": "dd38151f",
   "metadata": {},
   "outputs": [
    {
     "name": "stdout",
     "output_type": "stream",
     "text": [
      "all welcome\n"
     ]
    }
   ],
   "source": [
    "x=\"Hai all welcome\"\n",
    "print(x[4:])"
   ]
  },
  {
   "cell_type": "code",
   "execution_count": 55,
   "id": "2cd101bc",
   "metadata": {},
   "outputs": [
    {
     "name": "stdout",
     "output_type": "stream",
     "text": [
      "lowe\n"
     ]
    }
   ],
   "source": [
    "x=\"Beautiful flower\"\n",
    "print(x[-5:-1])"
   ]
  },
  {
   "cell_type": "code",
   "execution_count": 56,
   "id": "52271d6b",
   "metadata": {},
   "outputs": [
    {
     "name": "stdout",
     "output_type": "stream",
     "text": [
      "AROMAL\n"
     ]
    }
   ],
   "source": [
    "a=\"aromal\"\n",
    "print(a.upper())"
   ]
  },
  {
   "cell_type": "code",
   "execution_count": 57,
   "id": "54be9d88",
   "metadata": {},
   "outputs": [
    {
     "name": "stdout",
     "output_type": "stream",
     "text": [
      "AROMAL\n"
     ]
    }
   ],
   "source": [
    "a=\"ARomal\"\n",
    "print(a.upper())"
   ]
  },
  {
   "cell_type": "code",
   "execution_count": 58,
   "id": "bb7c85c6",
   "metadata": {},
   "outputs": [
    {
     "name": "stdout",
     "output_type": "stream",
     "text": [
      "beautiful\n"
     ]
    }
   ],
   "source": [
    "a=\"BEAUTIFUL\"\n",
    "print(a.lower())"
   ]
  },
  {
   "cell_type": "code",
   "execution_count": 59,
   "id": "3d191d01",
   "metadata": {},
   "outputs": [
    {
     "name": "stdout",
     "output_type": "stream",
     "text": [
      "hello world!\n"
     ]
    }
   ],
   "source": [
    "# The strip() method removes any whitespace from the beginning or the end:\n",
    "a=\" hello world! \"\n",
    "print(a.strip())"
   ]
  },
  {
   "cell_type": "code",
   "execution_count": 60,
   "id": "926d2539",
   "metadata": {},
   "outputs": [
    {
     "name": "stdout",
     "output_type": "stream",
     "text": [
      "Welcome Grogramming\n"
     ]
    }
   ],
   "source": [
    "a=\"Welcome Programming\"\n",
    "print(a.replace(\"P\",\"G\"))"
   ]
  },
  {
   "cell_type": "code",
   "execution_count": 61,
   "id": "04331c42",
   "metadata": {},
   "outputs": [
    {
     "name": "stdout",
     "output_type": "stream",
     "text": [
      "['Welcome Programming']\n"
     ]
    }
   ],
   "source": [
    "# \n",
    "A=\"Welcome, programming\"\n",
    "print(a.split(\",\"))"
   ]
  },
  {
   "cell_type": "code",
   "execution_count": 62,
   "id": "11a99037",
   "metadata": {},
   "outputs": [
    {
     "name": "stdout",
     "output_type": "stream",
     "text": [
      "['Welcome', 'Programming']\n"
     ]
    }
   ],
   "source": [
    "A=\"Welcome, programming\"\n",
    "print(a.split(\" \"))"
   ]
  },
  {
   "cell_type": "code",
   "execution_count": 2,
   "id": "1d02b221",
   "metadata": {},
   "outputs": [
    {
     "name": "stdout",
     "output_type": "stream",
     "text": [
      " The value is 45\n"
     ]
    }
   ],
   "source": [
    "x=45\n",
    "txt =f\" The value is {x}\"\n",
    "print(txt)"
   ]
  },
  {
   "cell_type": "code",
   "execution_count": 3,
   "id": "7f9f161b",
   "metadata": {},
   "outputs": [
    {
     "name": "stdout",
     "output_type": "stream",
     "text": [
      "False\n"
     ]
    }
   ],
   "source": [
    "print(5>10)"
   ]
  },
  {
   "cell_type": "code",
   "execution_count": 10,
   "id": "feed68a0",
   "metadata": {},
   "outputs": [
    {
     "name": "stdout",
     "output_type": "stream",
     "text": [
      "['Orange', 'Banana']\n",
      "Mango\n"
     ]
    }
   ],
   "source": [
    "# List\n",
    "# List is ordered, Changable, Allo Duplicate values\n",
    "items=[\"apple\",\"Orange\", \"Banana\",\"apple\", \"Mango\"]\n",
    "print(items[1:3])\n",
    "print(items[-1])"
   ]
  },
  {
   "cell_type": "code",
   "execution_count": 8,
   "id": "6e254f41-a5ef-412f-8504-acf4d595fd3e",
   "metadata": {},
   "outputs": [
    {
     "name": "stdout",
     "output_type": "stream",
     "text": [
      "['apple', 'Orange', 'Banana', 'Jackfruit', 'Mango']\n"
     ]
    }
   ],
   "source": [
    "items=[\"apple\",\"Orange\", \"Banana\",\"apple\", \"Mango\"]\n",
    "items[3]=\"Jackfruit\"\n",
    "print(items)"
   ]
  },
  {
   "cell_type": "code",
   "execution_count": 9,
   "id": "39ace87e-59e7-47f7-98b0-0fff5b6eb5c7",
   "metadata": {},
   "outputs": [
    {
     "name": "stdout",
     "output_type": "stream",
     "text": [
      "['apple', 'Orange', 'Banana', 'Grapes', 'Jackfruit', 'Mango']\n"
     ]
    }
   ],
   "source": [
    "# INSERT \n",
    "items=['apple', 'Orange', 'Banana', 'Jackfruit', 'Mango']\n",
    "items.insert(3,\"Grapes\")\n",
    "print(items)"
   ]
  },
  {
   "cell_type": "code",
   "execution_count": 11,
   "id": "1011a7bc-b5ea-48b0-b681-8806c8b65a3d",
   "metadata": {},
   "outputs": [
    {
     "name": "stdout",
     "output_type": "stream",
     "text": [
      "['apple', 'Orange', 'Banana', 'Jackfruit', 'Mango', 'Kiwi']\n"
     ]
    }
   ],
   "source": [
    "# Append (to insert an item at the end of the list\n",
    "items=['apple', 'Orange', 'Banana', 'Jackfruit', 'Mango']\n",
    "items.append(\"Kiwi\")\n",
    "print(items)\n"
   ]
  },
  {
   "cell_type": "code",
   "execution_count": 14,
   "id": "bf254364-8a99-448a-a9fe-04c8a8eac9c8",
   "metadata": {},
   "outputs": [
    {
     "name": "stdout",
     "output_type": "stream",
     "text": [
      "['apple', 'Orange', 'Banana', 'Jackfruit', 'Mango', 'Tomato', 'Potato']\n"
     ]
    }
   ],
   "source": [
    "# Extend (to append to lists\n",
    "item1=['apple', 'Orange', 'Banana', 'Jackfruit', 'Mango']\n",
    "item2=[\"Tomato\", \"Potato\"]\n",
    "item1.extend(item2)\n",
    "print(item1)\n",
    "\n"
   ]
  },
  {
   "cell_type": "code",
   "execution_count": 15,
   "id": "843d96c2-6909-4ea6-8988-1cdda862b4e8",
   "metadata": {},
   "outputs": [
    {
     "name": "stdout",
     "output_type": "stream",
     "text": [
      "['apple', 'Orange', 'Jackfruit', 'Mango']\n"
     ]
    }
   ],
   "source": [
    "# Remove items from the list(REMOVE)\n",
    "item1=['apple', 'Orange', 'Banana', 'Jackfruit', 'Mango']\n",
    "item1.remove(\"Banana\")\n",
    "print(item1)\n",
    "\n"
   ]
  },
  {
   "cell_type": "code",
   "execution_count": 16,
   "id": "7d017f98-2a6e-4e01-83c9-504f8f69e4eb",
   "metadata": {},
   "outputs": [
    {
     "name": "stdout",
     "output_type": "stream",
     "text": [
      "['apple', 'Banana', 'Jackfruit', 'Mango']\n"
     ]
    }
   ],
   "source": [
    "# Remove item with index number (POP)\n",
    "item1=['apple', 'Orange', 'Banana', 'Jackfruit', 'Mango']\n",
    "item1.pop(1)\n",
    "print(item1)"
   ]
  },
  {
   "cell_type": "code",
   "execution_count": 17,
   "id": "96a28379-6854-490c-b880-46f9bada7ede",
   "metadata": {},
   "outputs": [
    {
     "name": "stdout",
     "output_type": "stream",
     "text": [
      "['apple', 'Orange', 'Banana', 'Jackfruit']\n"
     ]
    }
   ],
   "source": [
    "# Remove the last item(POP)\n",
    "item1=['apple', 'Orange', 'Banana', 'Jackfruit', 'Mango']\n",
    "item1.pop()\n",
    "print(item1)"
   ]
  },
  {
   "cell_type": "code",
   "execution_count": 20,
   "id": "035c8991-59f0-416e-ba5b-3a730abc8113",
   "metadata": {},
   "outputs": [
    {
     "name": "stdout",
     "output_type": "stream",
     "text": [
      "['Orange', 'Banana', 'Jackfruit', 'Mango']\n"
     ]
    }
   ],
   "source": [
    "# delete\n",
    "item1=['apple', 'Orange', 'Banana', 'Jackfruit', 'Mango']\n",
    "del item1[0];\n",
    "print(item1)\n"
   ]
  },
  {
   "cell_type": "code",
   "execution_count": 21,
   "id": "be4261be-fcab-4c5b-b0a2-db0950eacddc",
   "metadata": {},
   "outputs": [
    {
     "name": "stdout",
     "output_type": "stream",
     "text": [
      "{'color': 'red', 'shape': 'round', 'category': 'fruit'}\n"
     ]
    }
   ],
   "source": [
    "# dictionary\n",
    "apple={\n",
    "\"color\": \"red\",\n",
    "    \"shape\": \"round\",\n",
    "    \"category\": \"fruit\"\n",
    "}\n",
    "\n",
    "print(apple)\n",
    "\n"
   ]
  },
  {
   "cell_type": "code",
   "execution_count": 25,
   "id": "37a5329d-3dd3-4b14-8a5f-0058bcf8b860",
   "metadata": {},
   "outputs": [
    {
     "name": "stdout",
     "output_type": "stream",
     "text": [
      "red\n",
      "dict_keys(['color', 'shape', 'category'])\n"
     ]
    }
   ],
   "source": [
    "# dictionary\n",
    "apple={\n",
    "\"color\": \"red\",\n",
    "    \"shape\": \"round\",\n",
    "    \"category\": \"fruit\"\n",
    "}\n",
    "print(apple[\"color\"])\n",
    "print(apple.keys())"
   ]
  },
  {
   "cell_type": "code",
   "execution_count": 27,
   "id": "d1ef9caa-dad4-4bf0-902d-44be0e3ebc4c",
   "metadata": {},
   "outputs": [
    {
     "name": "stdout",
     "output_type": "stream",
     "text": [
      "Welcome Programming\n"
     ]
    }
   ],
   "source": [
    "def myfun():\n",
    "    print(\"Welcome Programming\")\n",
    "myfun()\n"
   ]
  },
  {
   "cell_type": "code",
   "execution_count": 30,
   "id": "cc593771-c57a-41a6-9b07-513a8e567408",
   "metadata": {},
   "outputs": [
    {
     "name": "stdout",
     "output_type": "stream",
     "text": [
      "amrutha is good\n"
     ]
    }
   ],
   "source": [
    "def newfunc(fname):\n",
    "    print(fname + \" is good\")\n",
    "newfunc('Amrutha')"
   ]
  },
  {
   "cell_type": "code",
   "execution_count": 32,
   "id": "9d3592ff-3e1e-4901-89e9-543c6c8e1d12",
   "metadata": {},
   "outputs": [
    {
     "name": "stdout",
     "output_type": "stream",
     "text": [
      "apple\n",
      "Orange\n",
      "Banana\n",
      "Jackfruit\n",
      "Mango\n"
     ]
    }
   ],
   "source": [
    "def funcLoop(value):\n",
    "    for x in value:\n",
    "        print(x)\n",
    "fruits=['apple', 'Orange', 'Banana', 'Jackfruit', 'Mango']\n",
    "funcLoop(fruits)"
   ]
  },
  {
   "cell_type": "code",
   "execution_count": 34,
   "id": "4cc6d814-65b9-42c1-b1a1-e0aa35142bd7",
   "metadata": {},
   "outputs": [
    {
     "name": "stdout",
     "output_type": "stream",
     "text": [
      "15\n"
     ]
    }
   ],
   "source": [
    "def newfunct(x):\n",
    "    return 5*x\n",
    "print(newfunct(3))"
   ]
  },
  {
   "cell_type": "code",
   "execution_count": 39,
   "id": "1baf2da2-0e4a-4207-8f8e-f43c0c346574",
   "metadata": {},
   "outputs": [
    {
     "name": "stdout",
     "output_type": "stream",
     "text": [
      "Amrutha\n",
      "24\n"
     ]
    }
   ],
   "source": [
    "class person:\n",
    "    def __init__(self,name,age):\n",
    "        self.name=name\n",
    "        self.age=age\n",
    "p1= person(\"Amrutha\",24)\n",
    "print(p1.name)\n",
    "print(p1.age)\n",
    "        \n"
   ]
  },
  {
   "cell_type": "code",
   "execution_count": null,
   "id": "b049117d-9652-4bdb-b1b9-1c2370e0554a",
   "metadata": {},
   "outputs": [],
   "source": [
    "class person:\n",
    "    def __init__(self,name,age)\n",
    "        self.name=name\n",
    "        self.age=age\n"
   ]
  },
  {
   "cell_type": "code",
   "execution_count": 44,
   "id": "e3b8ad5f-bac7-47c5-9290-21a01fdded76",
   "metadata": {},
   "outputs": [
    {
     "name": "stdout",
     "output_type": "stream",
     "text": [
      "Hello ,World ,Python\n"
     ]
    }
   ],
   "source": [
    "words = [\"Hello\", \"World\", \"Python\"]\n",
    "result = ' '.join(words)\n",
    "print(result)"
   ]
  },
  {
   "cell_type": "code",
   "execution_count": 42,
   "id": "4c19f093-1f55-4f3c-ab40-8ca9fb62bcdb",
   "metadata": {},
   "outputs": [
    {
     "name": "stdout",
     "output_type": "stream",
     "text": [
      "lla emocleW\n"
     ]
    }
   ],
   "source": [
    "msg=\"Welcome all\"\n",
    "print(msg[::-1])"
   ]
  },
  {
   "cell_type": "code",
   "execution_count": 46,
   "id": "7efe28b0-7ba5-4395-a557-1891c3e9d327",
   "metadata": {},
   "outputs": [
    {
     "name": "stdout",
     "output_type": "stream",
     "text": [
      "nohtyP si emosewA\n"
     ]
    }
   ],
   "source": [
    "def reverse_words(sentence):\n",
    "    # Split the sentence into words\n",
    "    words = sentence.split()\n",
    "    \n",
    "    # Reverse each word and join them back into a single string\n",
    "    reversed_sentence = ' '.join(word[::-1] for word in words)\n",
    "    \n",
    "    return reversed_sentence\n",
    "\n",
    "# Test\n",
    "sentence = \"Python is Awesome\"\n",
    "result = reverse_words(sentence)\n",
    "print(result)  # Output: \"nohtyP si emosewA\"\n"
   ]
  },
  {
   "cell_type": "code",
   "execution_count": 47,
   "id": "7a741e45-6256-4994-b75a-21a6e9dc3b63",
   "metadata": {},
   "outputs": [
    {
     "name": "stdout",
     "output_type": "stream",
     "text": [
      "nohtyP si emosewA\n"
     ]
    }
   ],
   "source": [
    "# Input sentence\n",
    "sentence = \"Python is Awesome\"\n",
    "\n",
    "# Split the sentence into words\n",
    "words = sentence.split()\n",
    "\n",
    "# Reverse each word and join them into a single string\n",
    "reversed_sentence = ' '.join(word[::-1] for word in words)\n",
    "\n",
    "# Print the result\n",
    "print(reversed_sentence)  # Output: \"nohtyP si emosewA\"\n"
   ]
  },
  {
   "cell_type": "code",
   "execution_count": 49,
   "id": "30ac39f3-2c16-44f6-b43e-4bf3661ed9f1",
   "metadata": {},
   "outputs": [
    {
     "name": "stdout",
     "output_type": "stream",
     "text": [
      "nohtyp si emosewa\n"
     ]
    }
   ],
   "source": [
    "str1 = \"Python is Awesome\"\n",
    "words= str1.lower().split()\n",
    "reversed_sentence = ' '.join(word[::-1] for word in words)\n",
    "print(reversed_sentence) "
   ]
  },
  {
   "cell_type": "code",
   "execution_count": 50,
   "id": "882fb902-d70f-43b3-bfe7-7a2e41d35d9c",
   "metadata": {},
   "outputs": [
    {
     "name": "stdout",
     "output_type": "stream",
     "text": [
      "['P', 'y', 't', 'h', 'o', 'n']\n"
     ]
    }
   ],
   "source": [
    "str1=\"Python\"\n",
    "print(list(str1))\n"
   ]
  },
  {
   "cell_type": "code",
   "execution_count": 51,
   "id": "b2ba2049-6916-4f0a-bcf6-38e0417865e1",
   "metadata": {},
   "outputs": [
    {
     "name": "stdout",
     "output_type": "stream",
     "text": [
      "Nohtyp si Emosewa\n"
     ]
    }
   ],
   "source": [
    "# Input sentence\n",
    "sentence = \"Python is Awesome\"\n",
    "\n",
    "# Split the sentence into words\n",
    "words = sentence.split()\n",
    "\n",
    "# Process each word\n",
    "reversed_words = []\n",
    "for word in words:\n",
    "    # Create a list of characters for the reversed word\n",
    "    reversed_chars = list(word[::-1])\n",
    "    \n",
    "    # Adjust cases to match the original word\n",
    "    for i, char in enumerate(word):\n",
    "        if char.isupper():\n",
    "            reversed_chars[i] = reversed_chars[i].upper()\n",
    "        else:\n",
    "            reversed_chars[i] = reversed_chars[i].lower()\n",
    "    \n",
    "    # Add the processed word to the list\n",
    "    reversed_words.append(\"\".join(reversed_chars))\n",
    "\n",
    "# Combine reversed words into a single string\n",
    "result = ' '.join(reversed_words)\n",
    "\n",
    "# Print the result\n",
    "print(result)  # Output: \"Nohtyp si Emosewa\" "
   ]
  },
  {
   "cell_type": "code",
   "execution_count": 54,
   "id": "2178a4a2-e534-4ca3-8f20-d49653ac9c18",
   "metadata": {},
   "outputs": [
    {
     "name": "stdout",
     "output_type": "stream",
     "text": [
      "Nohtyp si Emosewa\n"
     ]
    }
   ],
   "source": [
    "\n",
    "sentence = \"Python is Awesome\"\n",
    "words = sentence.split()\n",
    "reversed_words = []\n",
    "for word in words:\n",
    "    reversed_chars = list(word[::-1])\n",
    "    \n",
    "    for i, char in enumerate(word):\n",
    "        if char.isupper():\n",
    "            reversed_chars[i] = reversed_chars[i].upper()\n",
    "        else:\n",
    "            reversed_chars[i] = reversed_chars[i].lower()\n",
    "    reversed_words.append(\"\".join(reversed_chars))\n",
    "result = ' '.join(reversed_words)\n",
    "print(result)      "
   ]
  },
  {
   "cell_type": "code",
   "execution_count": 55,
   "id": "cd707c26-9d78-4539-961a-ae261dd10d5f",
   "metadata": {},
   "outputs": [
    {
     "name": "stdout",
     "output_type": "stream",
     "text": [
      "[10, 20, 30, 40, 50]\n",
      "2548144048832\n"
     ]
    }
   ],
   "source": [
    "# Given list\n",
    "number_list = [10, 20, 30, 40, 50, 60, 70, 80, 90, 100]\n",
    "\n",
    "# Iterate over the list in reverse and remove items greater than 50\n",
    "for number in number_list[:]:  # Copy the list to safely iterate\n",
    "    if number > 50:\n",
    "        number_list.remove(number)\n",
    "\n",
    "print(number_list)  # Output: [10, 20, 30, 40, 50]\n",
    "\n",
    "# Verifying the same ID\n",
    "print(id(number_list))  # ID will remain the same\n"
   ]
  },
  {
   "cell_type": "code",
   "execution_count": 57,
   "id": "39251a5e-fae2-4dba-a18c-e8fce41cb8f2",
   "metadata": {},
   "outputs": [
    {
     "name": "stdout",
     "output_type": "stream",
     "text": [
      "[10, 20, 30, 40, 50, 60, 70, 80, 90, 100]\n",
      "2548144425536\n",
      "[10, 20, 30, 40, 50]\n",
      "2548144425536\n"
     ]
    }
   ],
   "source": [
    "\n",
    "number_list = [10, 20, 30, 40, 50, 60, 70, 80, 90, 100]\n",
    "print(number_list)\n",
    "print(id(number_list))\n",
    "\n",
    "for number in number_list[:]:  \n",
    "    if number > 50:\n",
    "        number_list.remove(number)\n",
    "\n",
    "print(number_list) \n",
    "\n",
    "\n",
    "print(id(number_list))  "
   ]
  },
  {
   "cell_type": "code",
   "execution_count": 58,
   "id": "61146dd5-8625-4c65-b6ec-889dca40561b",
   "metadata": {},
   "outputs": [
    {
     "name": "stdout",
     "output_type": "stream",
     "text": [
      "[20, 60, 30]\n"
     ]
    }
   ],
   "source": [
    "# Given list\n",
    "sample_list = [10, 20, 60, 30, 20, 40, 30, 60, 70, 80]\n",
    "\n",
    "# Dictionary to store counts of each item\n",
    "occurrence_count = {}\n",
    "\n",
    "# Count occurrences of each item\n",
    "for item in sample_list:\n",
    "    if item in occurrence_count:\n",
    "        occurrence_count[item] += 1\n",
    "    else:\n",
    "        occurrence_count[item] = 1\n",
    "\n",
    "# Find duplicates (items occurring more than once)\n",
    "duplicates = [item for item, count in occurrence_count.items() if count > 1]\n",
    "\n",
    "# Print the duplicates\n",
    "print(duplicates)  # Output: [20, 60, 30]\n"
   ]
  },
  {
   "cell_type": "code",
   "execution_count": 63,
   "id": "8d3d432b-18c4-45c5-a9b1-c4a1969ba586",
   "metadata": {},
   "outputs": [
    {
     "name": "stdout",
     "output_type": "stream",
     "text": [
      "[10, 20, 60, 30, 20, 40, 30, 60, 70, 80]\n",
      "[20, 60, 30]\n"
     ]
    }
   ],
   "source": [
    "numbers_list=[10, 20, 60, 30, 20, 40, 30, 60, 70, 80]\n",
    "import collections\n",
    "duplicates = []\n",
    "count_list=collections.Counter(numbers_list)\n",
    "for i, count in count_list.items():\n",
    "    if count > 1:\n",
    "        duplicates.append(i)\n",
    "print(numbers_list)\n",
    "print(duplicates)\n"
   ]
  },
  {
   "cell_type": "code",
   "execution_count": 70,
   "id": "568f1fd3-7c8f-46d1-84ee-b1b28379e2e3",
   "metadata": {},
   "outputs": [
    {
     "name": "stdout",
     "output_type": "stream",
     "text": [
      "--> Running sleeper_func\n",
      "sleeping for 2 seconds\n",
      "--> sleeper_func ran in 2.0003950595855713 seconds\n"
     ]
    },
    {
     "data": {
      "text/plain": [
       "'Woke up!'"
      ]
     },
     "execution_count": 70,
     "metadata": {},
     "output_type": "execute_result"
    }
   ],
   "source": [
    "import time\n",
    "\n",
    "# Decorator definition\n",
    "def time_this(func):\n",
    "    def wrapper(*args, **kwargs):\n",
    "        print(f\"--> Running {func.__name__}\")\n",
    "        \n",
    "        # Record the start time\n",
    "        start_time = time.time()\n",
    "        \n",
    "        # Call the actual function\n",
    "        result = func(*args, **kwargs)\n",
    "        \n",
    "        # Record the end time\n",
    "        end_time = time.time()\n",
    "        \n",
    "        # Calculate the time taken\n",
    "        elapsed_time = end_time - start_time\n",
    "        \n",
    "        # Print the time taken for the function to run\n",
    "        print(f\"--> {func.__name__} ran in {elapsed_time} seconds\")\n",
    "        \n",
    "        return result\n",
    "    \n",
    "    return wrapper\n",
    "\n",
    "# Example usage of the decorator\n",
    "from time import sleep\n",
    "\n",
    "@time_this\n",
    "def sleeper_func(sleeptime):\n",
    "    print(f'sleeping for {sleeptime} seconds')\n",
    "    sleep(sleeptime)\n",
    "    return 'Woke up!'\n",
    "\n",
    "# Calling the function\n",
    "sleeper_func(2)\n",
    "\n"
   ]
  },
  {
   "cell_type": "code",
   "execution_count": 72,
   "id": "30534c3e-3a73-4319-b3b1-3880e046f1fe",
   "metadata": {},
   "outputs": [
    {
     "name": "stdout",
     "output_type": "stream",
     "text": [
      "Radius: 5\n",
      "Area: 78.53975\n",
      "Circumference: 31.4159\n",
      "Updated Radius: 10\n",
      "Updated Area: 314.159\n"
     ]
    }
   ],
   "source": [
    "class Circle:\n",
    "    def __init__(self, radius):\n",
    "        self._radius = radius  # Initialize the radius attribute\n",
    "        \n",
    "    @property\n",
    "    def radius(self):\n",
    "        \"\"\"Getter for radius, using @property\"\"\"\n",
    "        return self._radius\n",
    "    \n",
    "    @radius.setter\n",
    "    def radius(self, value):\n",
    "        \"\"\"Setter for radius, using @radius.setter\"\"\"\n",
    "        if value < 0:\n",
    "            raise ValueError(\"Radius cannot be negative!\")\n",
    "        self._radius = value\n",
    "    \n",
    "    @property\n",
    "    def area(self):\n",
    "        \"\"\"Calculate area of the circle using the radius\"\"\"\n",
    "        return 3.14159 * self._radius ** 2\n",
    "    \n",
    "    @property\n",
    "    def circumference(self):\n",
    "        \"\"\"Calculate circumference of the circle using the radius\"\"\"\n",
    "        return 2 * 3.14159 * self._radius\n",
    "\n",
    "# Create an instance of Circle\n",
    "circle = Circle(5)\n",
    "\n",
    "# Accessing the property 'radius' like an attribute\n",
    "print(f\"Radius: {circle.radius}\")  # Output: Radius: 5\n",
    "\n",
    "# Accessing the area and circumference properties\n",
    "print(f\"Area: {circle.area}\")  # Output: Area: 78.53975\n",
    "print(f\"Circumference: {circle.circumference}\")  # Output: Circumference: 31.4159\n",
    "\n",
    "# Changing the radius using the setter\n",
    "circle.radius = 10\n",
    "print(f\"Updated Radius: {circle.radius}\")  # Output: Updated Radius: 10\n",
    "print(f\"Updated Area: {circle.area}\")  # Output: Updated Area: 314.159\n",
    "\n",
    "\n",
    "    "
   ]
  },
  {
   "cell_type": "code",
   "execution_count": null,
   "id": "2a18eca4-ee49-4217-9284-d46f48627816",
   "metadata": {},
   "outputs": [],
   "source": [
    "import requests\n",
    "\n",
    "def get_random_word():\n",
    "    URL = 'https://random-word-api.herokuapp.com/word'\n",
    "    word = requests.get(URL).json()[0]\n",
    "    \n",
    "    if not word.isalpha():\n",
    "        word = get_random_word()\n",
    "    \n",
    "    return word.lower()\n",
    "\n",
    "def get_unmasked_word(word, masked_word, guess):\n",
    "    masked_word = list(masked_word)\n",
    "    if guess in word:\n",
    "        positions = [pos for pos, char in enumerate(word) if char == guess]\n",
    "        for pos in positions:\n",
    "            masked_word[pos] = guess\n",
    "    \n",
    "    return ''.join(masked_word)\n",
    "\n",
    "def get_valid_guess(guessed_letters):\n",
    "    guess = input(\"Enter your guess: \")\n",
    "    \n",
    "    if len(guess) != 1:\n",
    "        print(f\"WARNING: Guess one character at a time.\")\n",
    "        guess = get_valid_guess(guessed_letters)\n",
    "    \n",
    "    elif guess in guessed_letters:\n",
    "        print(f\"WARNING: The character '{guess}' has already been guessed. Please make a new guess.\")\n",
    "        guess = get_valid_guess(guessed_letters)\n",
    "    \n",
    "    elif not guess.isalpha():\n",
    "        print(f\"WARNING: Guess can only be an alphabet.\")\n",
    "        guess = get_valid_guess(guessed_letters)\n",
    "\n",
    "    return guess.lower()\n"
   ]
  },
  {
   "cell_type": "code",
   "execution_count": 74,
   "id": "91f380bf-7b3b-436e-8c74-8f90085892d3",
   "metadata": {},
   "outputs": [
    {
     "name": "stdout",
     "output_type": "stream",
     "text": [
      "\n",
      "------------------------------------- Welcome to Hangman CLI game! ------------------------------------- \n",
      "\n",
      "- Application will randomly pick a word from the internet. \n",
      "- You are expected to guess ONE letter in the word at each turn.\n",
      "- The objective is to correctly guess the word that the application has picked. \n",
      "- You can have upto SIX incorrect guesses (i.e., guessed letter not in word) before it's game over.\n",
      "\n",
      "Good luck!\n",
      "\n",
      "Okay, here we go: The secret word is 9 characters long.\n",
      "\n",
      "\n",
      "\n",
      "Secret Word: _________\n",
      "So far you have guessed: Nothing\n"
     ]
    },
    {
     "ename": "NameError",
     "evalue": "name 'get_valid_guess' is not defined",
     "output_type": "error",
     "traceback": [
      "\u001b[1;31m---------------------------------------------------------------------------\u001b[0m",
      "\u001b[1;31mNameError\u001b[0m                                 Traceback (most recent call last)",
      "Cell \u001b[1;32mIn[74], line 57\u001b[0m\n\u001b[0;32m     54\u001b[0m             \u001b[38;5;28mprint\u001b[39m(\u001b[38;5;124m\"\u001b[39m\u001b[38;5;124m----------------------------------------------------------------------------------------------------\u001b[39m\u001b[38;5;130;01m\\n\u001b[39;00m\u001b[38;5;124m\"\u001b[39m)\n\u001b[0;32m     56\u001b[0m \u001b[38;5;28;01mif\u001b[39;00m \u001b[38;5;18m__name__\u001b[39m \u001b[38;5;241m==\u001b[39m \u001b[38;5;124m'\u001b[39m\u001b[38;5;124m__main__\u001b[39m\u001b[38;5;124m'\u001b[39m:    \n\u001b[1;32m---> 57\u001b[0m     \u001b[43mstart_game\u001b[49m\u001b[43m(\u001b[49m\u001b[43m)\u001b[49m\n",
      "Cell \u001b[1;32mIn[74], line 37\u001b[0m, in \u001b[0;36mstart_game\u001b[1;34m()\u001b[0m\n\u001b[0;32m     34\u001b[0m     \u001b[38;5;28;01mbreak\u001b[39;00m\n\u001b[0;32m     36\u001b[0m \u001b[38;5;28mprint\u001b[39m(\u001b[38;5;124mf\u001b[39m\u001b[38;5;124m\"\u001b[39m\u001b[38;5;124mSo far you have guessed: \u001b[39m\u001b[38;5;132;01m{\u001b[39;00m\u001b[38;5;28msorted\u001b[39m(guessed_letters)\u001b[38;5;250m \u001b[39m\u001b[38;5;28;01mif\u001b[39;00m\u001b[38;5;250m \u001b[39mguessed_letters\u001b[38;5;250m \u001b[39m\u001b[38;5;28;01melse\u001b[39;00m\u001b[38;5;250m \u001b[39m\u001b[38;5;124m'\u001b[39m\u001b[38;5;124mNothing\u001b[39m\u001b[38;5;124m'\u001b[39m\u001b[38;5;132;01m}\u001b[39;00m\u001b[38;5;124m\"\u001b[39m)\n\u001b[1;32m---> 37\u001b[0m guess \u001b[38;5;241m=\u001b[39m \u001b[43mget_valid_guess\u001b[49m(guessed_letters)\n\u001b[0;32m     38\u001b[0m guessed_letters\u001b[38;5;241m.\u001b[39mappend(guess)\n\u001b[0;32m     40\u001b[0m \u001b[38;5;28;01mif\u001b[39;00m guess \u001b[38;5;129;01min\u001b[39;00m word:\n",
      "\u001b[1;31mNameError\u001b[0m: name 'get_valid_guess' is not defined"
     ]
    }
   ],
   "source": [
    "from textwrap import dedent\n",
    "def start_game():\n",
    "    print(\"\\n------------------------------------- Welcome to Hangman CLI game! ------------------------------------- \")\n",
    "    \n",
    "    intro = \"\"\"\n",
    "    - Application will randomly pick a word from the internet. \n",
    "    - You are expected to guess ONE letter in the word at each turn.\n",
    "    - The objective is to correctly guess the word that the application has picked. \n",
    "    - You can have upto SIX incorrect guesses (i.e., guessed letter not in word) before it's game over.\n",
    "\n",
    "    Good luck!\n",
    "    \"\"\"\n",
    "    print(dedent(intro))\n",
    "    \n",
    "    while True:\n",
    "        guessed_letters = []\n",
    "        incorrect_guess_count = 6\n",
    "        \n",
    "        word = get_random_word()\n",
    "        print(f\"Okay, here we go: The secret word is {len(word)} characters long.\\n\")\n",
    "        masked_word = '_' * len(word)\n",
    "        \n",
    "        while True:\n",
    "            print(\"\\n\")\n",
    "            print(f\"Secret Word: {masked_word}\")\n",
    "\n",
    "            if masked_word == word:\n",
    "                print(f\"Congrats! You correctly guessed the word: {word}. GAME OVER!\")\n",
    "                break\n",
    "\n",
    "            if incorrect_guess_count == 0:\n",
    "                print(f\"Uh oh!! GAME OVER! You have run out of guesses. The word is: {word}\")\n",
    "                break\n",
    "            \n",
    "            print(f\"So far you have guessed: {sorted(guessed_letters) if guessed_letters else 'Nothing'}\")\n",
    "            guess = get_valid_guess(guessed_letters)\n",
    "            guessed_letters.append(guess)\n",
    "\n",
    "            if guess in word:\n",
    "                print(f\"\\nYay! That was a good guess! The letter '{guess}' exists in the secret word.\")\n",
    "            else: \n",
    "                print(f\"\\nUh oh! That was NOT a great guess! The letter '{guess}' does NOT exist in the secret word.\")\n",
    "                incorrect_guess_count -= 1\n",
    "                print(f\"You have {incorrect_guess_count} incorrect guesses left.\")\n",
    "\n",
    "            masked_word = get_unmasked_word(word, masked_word, guess)\n",
    "\n",
    "        play = input(\"\\nWould you like to play again? (y/n): \")\n",
    "        if play.lower() != 'y':\n",
    "            print(\"Bye Bye! Hope you had fun!\")\n",
    "            break\n",
    "        else:\n",
    "            print(\"----------------------------------------------------------------------------------------------------\\n\")\n",
    "\n",
    "if __name__ == '__main__':    \n",
    "    start_game()\n"
   ]
  },
  {
   "cell_type": "code",
   "execution_count": 75,
   "id": "342790c8-4f8c-4da0-b90d-2e4b41be44ba",
   "metadata": {},
   "outputs": [
    {
     "name": "stdout",
     "output_type": "stream",
     "text": [
      "\n",
      "------------------------------------- Welcome to Hangman CLI game! ------------------------------------- \n",
      "\n",
      "- Application will randomly pick a word from the internet. \n",
      "- You are expected to guess ONE letter in the word at each turn.\n",
      "- The objective is to correctly guess the word that the application has picked. \n",
      "- You can have upto SIX incorrect guesses (i.e., guessed letter not in word) before it's game over.\n",
      "\n",
      "Good luck!\n",
      "\n",
      "Okay, here we go: The secret word is 7 characters long.\n",
      "\n",
      "\n",
      "\n",
      "Secret Word: _______\n",
      "So far you have guessed: Nothing\n"
     ]
    },
    {
     "ename": "NameError",
     "evalue": "name 'get_valid_guess' is not defined",
     "output_type": "error",
     "traceback": [
      "\u001b[1;31m---------------------------------------------------------------------------\u001b[0m",
      "\u001b[1;31mNameError\u001b[0m                                 Traceback (most recent call last)",
      "Cell \u001b[1;32mIn[75], line 57\u001b[0m\n\u001b[0;32m     54\u001b[0m             \u001b[38;5;28mprint\u001b[39m(\u001b[38;5;124m\"\u001b[39m\u001b[38;5;124m----------------------------------------------------------------------------------------------------\u001b[39m\u001b[38;5;130;01m\\n\u001b[39;00m\u001b[38;5;124m\"\u001b[39m)\n\u001b[0;32m     56\u001b[0m \u001b[38;5;28;01mif\u001b[39;00m \u001b[38;5;18m__name__\u001b[39m \u001b[38;5;241m==\u001b[39m \u001b[38;5;124m'\u001b[39m\u001b[38;5;124m__main__\u001b[39m\u001b[38;5;124m'\u001b[39m:    \n\u001b[1;32m---> 57\u001b[0m     \u001b[43mstart_game\u001b[49m\u001b[43m(\u001b[49m\u001b[43m)\u001b[49m\n",
      "Cell \u001b[1;32mIn[75], line 37\u001b[0m, in \u001b[0;36mstart_game\u001b[1;34m()\u001b[0m\n\u001b[0;32m     34\u001b[0m     \u001b[38;5;28;01mbreak\u001b[39;00m\n\u001b[0;32m     36\u001b[0m \u001b[38;5;28mprint\u001b[39m(\u001b[38;5;124mf\u001b[39m\u001b[38;5;124m\"\u001b[39m\u001b[38;5;124mSo far you have guessed: \u001b[39m\u001b[38;5;132;01m{\u001b[39;00m\u001b[38;5;28msorted\u001b[39m(guessed_letters)\u001b[38;5;250m \u001b[39m\u001b[38;5;28;01mif\u001b[39;00m\u001b[38;5;250m \u001b[39mguessed_letters\u001b[38;5;250m \u001b[39m\u001b[38;5;28;01melse\u001b[39;00m\u001b[38;5;250m \u001b[39m\u001b[38;5;124m'\u001b[39m\u001b[38;5;124mNothing\u001b[39m\u001b[38;5;124m'\u001b[39m\u001b[38;5;132;01m}\u001b[39;00m\u001b[38;5;124m\"\u001b[39m)\n\u001b[1;32m---> 37\u001b[0m guess \u001b[38;5;241m=\u001b[39m \u001b[43mget_valid_guess\u001b[49m(guessed_letters)\n\u001b[0;32m     38\u001b[0m guessed_letters\u001b[38;5;241m.\u001b[39mappend(guess)\n\u001b[0;32m     40\u001b[0m \u001b[38;5;28;01mif\u001b[39;00m guess \u001b[38;5;129;01min\u001b[39;00m word:\n",
      "\u001b[1;31mNameError\u001b[0m: name 'get_valid_guess' is not defined"
     ]
    }
   ],
   "source": [
    "from textwrap import dedent\n",
    "\n",
    "def start_game():\n",
    "    print(\"\\n------------------------------------- Welcome to Hangman CLI game! ------------------------------------- \")\n",
    "    \n",
    "    intro = \"\"\"\n",
    "    - Application will randomly pick a word from the internet. \n",
    "    - You are expected to guess ONE letter in the word at each turn.\n",
    "    - The objective is to correctly guess the word that the application has picked. \n",
    "    - You can have upto SIX incorrect guesses (i.e., guessed letter not in word) before it's game over.\n",
    "\n",
    "    Good luck!\n",
    "    \"\"\"\n",
    "    print(dedent(intro))\n",
    "    \n",
    "    while True:\n",
    "        guessed_letters = []\n",
    "        incorrect_guess_count = 6\n",
    "        \n",
    "        word = get_random_word()\n",
    "        print(f\"Okay, here we go: The secret word is {len(word)} characters long.\\n\")\n",
    "        masked_word = '_' * len(word)\n",
    "        \n",
    "        while True:\n",
    "            print(\"\\n\")\n",
    "            print(f\"Secret Word: {masked_word}\")\n",
    "\n",
    "            if masked_word == word:\n",
    "                print(f\"Congrats! You correctly guessed the word: {word}. GAME OVER!\")\n",
    "                break\n",
    "\n",
    "            if incorrect_guess_count == 0:\n",
    "                print(f\"Uh oh!! GAME OVER! You have run out of guesses. The word is: {word}\")\n",
    "                break\n",
    "            \n",
    "            print(f\"So far you have guessed: {sorted(guessed_letters) if guessed_letters else 'Nothing'}\")\n",
    "            guess = get_valid_guess(guessed_letters)\n",
    "            guessed_letters.append(guess)\n",
    "\n",
    "            if guess in word:\n",
    "                print(f\"\\nYay! That was a good guess! The letter '{guess}' exists in the secret word.\")\n",
    "            else: \n",
    "                print(f\"\\nUh oh! That was NOT a great guess! The letter '{guess}' does NOT exist in the secret word.\")\n",
    "                incorrect_guess_count -= 1\n",
    "                print(f\"You have {incorrect_guess_count} incorrect guesses left.\")\n",
    "\n",
    "            masked_word = get_unmasked_word(word, masked_word, guess)\n",
    "\n",
    "        play = input(\"\\nWould you like to play again? (y/n): \")\n",
    "        if play.lower() != 'y':\n",
    "            print(\"Bye Bye! Hope you had fun!\")\n",
    "            break\n",
    "        else:\n",
    "            print(\"----------------------------------------------------------------------------------------------------\\n\")\n",
    "\n",
    "if __name__ == '__main__':    \n",
    "    start_game()\n"
   ]
  },
  {
   "cell_type": "code",
   "execution_count": 76,
   "id": "d996ac1f-12e2-4d93-b7a3-20b1af9c1c43",
   "metadata": {},
   "outputs": [
    {
     "name": "stdout",
     "output_type": "stream",
     "text": [
      "Requirement already satisfied: requests in c:\\users\\amrutha.jr\\appdata\\local\\programs\\python\\python313\\lib\\site-packages (2.32.3)"
     ]
    },
    {
     "name": "stderr",
     "output_type": "stream",
     "text": [
      "\n",
      "[notice] A new release of pip is available: 24.2 -> 24.3.1\n",
      "[notice] To update, run: python.exe -m pip install --upgrade pip\n"
     ]
    },
    {
     "name": "stdout",
     "output_type": "stream",
     "text": [
      "\n",
      "Requirement already satisfied: charset-normalizer<4,>=2 in c:\\users\\amrutha.jr\\appdata\\local\\programs\\python\\python313\\lib\\site-packages (from requests) (3.4.0)\n",
      "Requirement already satisfied: idna<4,>=2.5 in c:\\users\\amrutha.jr\\appdata\\local\\programs\\python\\python313\\lib\\site-packages (from requests) (3.10)\n",
      "Requirement already satisfied: urllib3<3,>=1.21.1 in c:\\users\\amrutha.jr\\appdata\\local\\programs\\python\\python313\\lib\\site-packages (from requests) (2.2.3)\n",
      "Requirement already satisfied: certifi>=2017.4.17 in c:\\users\\amrutha.jr\\appdata\\local\\programs\\python\\python313\\lib\\site-packages (from requests) (2024.8.30)\n"
     ]
    }
   ],
   "source": [
    "!pip install requests"
   ]
  },
  {
   "cell_type": "code",
   "execution_count": 77,
   "id": "3f1e8325-5799-40c1-8d6d-3d4a7e58efff",
   "metadata": {},
   "outputs": [
    {
     "name": "stdout",
     "output_type": "stream",
     "text": [
      "----------------\n",
      "black\n",
      "15\n",
      "300\n",
      "300\n",
      "----------------\n",
      "20\n",
      "300\n",
      "400\n",
      "----------------\n",
      "20\n",
      "400\n",
      "----------------\n",
      "19.0\n",
      "380.0\n"
     ]
    }
   ],
   "source": [
    "class Vehicle:\n",
    "    def __init__(self, color, num_tyres, mileage, fuel_volume):\n",
    "        self.color = color\n",
    "        self.num_tyres = num_tyres\n",
    "        self.mileage = mileage\n",
    "        self.fuel_volume = fuel_volume\n",
    "\n",
    "        self.range = mileage * fuel_volume\n",
    "\n",
    "    def drive(self, distance):\n",
    "        fuel_used = distance / self.mileage\n",
    "        self.fuel_volume -= fuel_used\n",
    "\n",
    "    @property\n",
    "    def range_v2(self):\n",
    "        return self.mileage * self.fuel_volume\n",
    "\n",
    "\n",
    "car = Vehicle('black', 4, 15, 20)\n",
    "\n",
    "print('----------------')\n",
    "print(car.color)\n",
    "print(car.mileage)\n",
    "print(car.range)\n",
    "print(car.range_v2)\n",
    "\n",
    "print('----------------')\n",
    "car.mileage = 20\n",
    "print(car.mileage)\n",
    "print(car.range)\n",
    "print(car.range_v2)\n",
    "\n",
    "print('----------------')\n",
    "print(car.fuel_volume)\n",
    "print(car.range_v2)\n",
    "\n",
    "print('----------------')\n",
    "car.drive(20)\n",
    "print(car.fuel_volume)\n",
    "print(car.range_v2)"
   ]
  },
  {
   "cell_type": "code",
   "execution_count": 78,
   "id": "daae0a42-5746-4ea7-9319-98baf9edfcf0",
   "metadata": {},
   "outputs": [
    {
     "name": "stdout",
     "output_type": "stream",
     "text": [
      "----------------\n",
      "Account Holder: Alice\n",
      "Balance: 500\n",
      "----------------\n",
      "After depositing $200:\n",
      "Balance: 700\n",
      "----------------\n",
      "After withdrawing $300:\n",
      "Balance: 400\n",
      "----------------\n",
      "Invalid withdrawal amount. Check your balance.\n",
      "After trying to withdraw $500:\n",
      "Balance: 400\n"
     ]
    }
   ],
   "source": [
    "class BankAccount:\n",
    "    def __init__(self, account_holder, balance):\n",
    "        self.account_holder = account_holder\n",
    "        self._balance = balance  # Private attribute to store the balance\n",
    "\n",
    "    @property\n",
    "    def balance(self):\n",
    "        \"\"\"Getter for the account balance.\"\"\"\n",
    "        return self._balance\n",
    "\n",
    "    def deposit(self, amount):\n",
    "        \"\"\"Deposit money into the account.\"\"\"\n",
    "        if amount > 0:\n",
    "            self._balance += amount\n",
    "        else:\n",
    "            print(\"Deposit amount must be positive.\")\n",
    "\n",
    "    def withdraw(self, amount):\n",
    "        \"\"\"Withdraw money from the account.\"\"\"\n",
    "        if 0 < amount <= self._balance:\n",
    "            self._balance -= amount\n",
    "        else:\n",
    "            print(\"Invalid withdrawal amount. Check your balance.\")\n",
    "\n",
    "# Demonstration\n",
    "account = BankAccount(\"Alice\", 500)\n",
    "\n",
    "print(\"----------------\")\n",
    "print(\"Account Holder:\", account.account_holder)\n",
    "print(\"Balance:\", account.balance)\n",
    "\n",
    "print(\"----------------\")\n",
    "# Deposit money\n",
    "account.deposit(200)\n",
    "print(\"After depositing $200:\")\n",
    "print(\"Balance:\", account.balance)\n",
    "\n",
    "print(\"----------------\")\n",
    "# Withdraw money\n",
    "account.withdraw(300)\n",
    "print(\"After withdrawing $300:\")\n",
    "print(\"Balance:\", account.balance)\n",
    "\n",
    "print(\"----------------\")\n",
    "# Attempt to withdraw too much\n",
    "account.withdraw(500)\n",
    "print(\"After trying to withdraw $500:\")\n",
    "print(\"Balance:\", account.balance)\n"
   ]
  },
  {
   "cell_type": "code",
   "execution_count": 79,
   "id": "f78ca9d6-b736-4d3f-a4eb-83d5aad54a4a",
   "metadata": {},
   "outputs": [
    {
     "ename": "FileNotFoundError",
     "evalue": "[Errno 2] No such file or directory: 'valid_words.txt'",
     "output_type": "error",
     "traceback": [
      "\u001b[1;31m---------------------------------------------------------------------------\u001b[0m",
      "\u001b[1;31mFileNotFoundError\u001b[0m                         Traceback (most recent call last)",
      "Cell \u001b[1;32mIn[79], line 66\u001b[0m\n\u001b[0;32m     64\u001b[0m \u001b[38;5;66;03m# Run the game\u001b[39;00m\n\u001b[0;32m     65\u001b[0m \u001b[38;5;28;01mif\u001b[39;00m \u001b[38;5;18m__name__\u001b[39m \u001b[38;5;241m==\u001b[39m \u001b[38;5;124m\"\u001b[39m\u001b[38;5;124m__main__\u001b[39m\u001b[38;5;124m\"\u001b[39m:\n\u001b[1;32m---> 66\u001b[0m     \u001b[43mplay_wordle\u001b[49m\u001b[43m(\u001b[49m\u001b[43m)\u001b[49m\n",
      "Cell \u001b[1;32mIn[79], line 32\u001b[0m, in \u001b[0;36mplay_wordle\u001b[1;34m()\u001b[0m\n\u001b[0;32m     30\u001b[0m \u001b[38;5;28;01mdef\u001b[39;00m \u001b[38;5;21mplay_wordle\u001b[39m():\n\u001b[0;32m     31\u001b[0m     \u001b[38;5;66;03m# Load words and select target\u001b[39;00m\n\u001b[1;32m---> 32\u001b[0m     word_list \u001b[38;5;241m=\u001b[39m \u001b[43mload_words\u001b[49m\u001b[43m(\u001b[49m\u001b[38;5;124;43m\"\u001b[39;49m\u001b[38;5;124;43mvalid_words.txt\u001b[39;49m\u001b[38;5;124;43m\"\u001b[39;49m\u001b[43m)\u001b[49m\n\u001b[0;32m     33\u001b[0m     target_word \u001b[38;5;241m=\u001b[39m select_target_word(word_list)\n\u001b[0;32m     35\u001b[0m     \u001b[38;5;28mprint\u001b[39m(\u001b[38;5;124m\"\u001b[39m\u001b[38;5;124mWelcome to Wordle!\u001b[39m\u001b[38;5;124m\"\u001b[39m)\n",
      "Cell \u001b[1;32mIn[79], line 5\u001b[0m, in \u001b[0;36mload_words\u001b[1;34m(file_path)\u001b[0m\n\u001b[0;32m      4\u001b[0m \u001b[38;5;28;01mdef\u001b[39;00m \u001b[38;5;21mload_words\u001b[39m(file_path):\n\u001b[1;32m----> 5\u001b[0m     \u001b[38;5;28;01mwith\u001b[39;00m \u001b[38;5;28;43mopen\u001b[39;49m\u001b[43m(\u001b[49m\u001b[43mfile_path\u001b[49m\u001b[43m,\u001b[49m\u001b[43m \u001b[49m\u001b[38;5;124;43m\"\u001b[39;49m\u001b[38;5;124;43mr\u001b[39;49m\u001b[38;5;124;43m\"\u001b[39;49m\u001b[43m)\u001b[49m \u001b[38;5;28;01mas\u001b[39;00m file:\n\u001b[0;32m      6\u001b[0m         words \u001b[38;5;241m=\u001b[39m file\u001b[38;5;241m.\u001b[39mread()\u001b[38;5;241m.\u001b[39msplitlines()\n\u001b[0;32m      7\u001b[0m     \u001b[38;5;28;01mreturn\u001b[39;00m [word\u001b[38;5;241m.\u001b[39mstrip()\u001b[38;5;241m.\u001b[39mlower() \u001b[38;5;28;01mfor\u001b[39;00m word \u001b[38;5;129;01min\u001b[39;00m words \u001b[38;5;28;01mif\u001b[39;00m \u001b[38;5;28mlen\u001b[39m(word) \u001b[38;5;241m==\u001b[39m \u001b[38;5;241m5\u001b[39m]\n",
      "File \u001b[1;32m~\\AppData\\Local\\Programs\\Python\\Python313\\Lib\\site-packages\\IPython\\core\\interactiveshell.py:324\u001b[0m, in \u001b[0;36m_modified_open\u001b[1;34m(file, *args, **kwargs)\u001b[0m\n\u001b[0;32m    317\u001b[0m \u001b[38;5;28;01mif\u001b[39;00m file \u001b[38;5;129;01min\u001b[39;00m {\u001b[38;5;241m0\u001b[39m, \u001b[38;5;241m1\u001b[39m, \u001b[38;5;241m2\u001b[39m}:\n\u001b[0;32m    318\u001b[0m     \u001b[38;5;28;01mraise\u001b[39;00m \u001b[38;5;167;01mValueError\u001b[39;00m(\n\u001b[0;32m    319\u001b[0m         \u001b[38;5;124mf\u001b[39m\u001b[38;5;124m\"\u001b[39m\u001b[38;5;124mIPython won\u001b[39m\u001b[38;5;124m'\u001b[39m\u001b[38;5;124mt let you open fd=\u001b[39m\u001b[38;5;132;01m{\u001b[39;00mfile\u001b[38;5;132;01m}\u001b[39;00m\u001b[38;5;124m by default \u001b[39m\u001b[38;5;124m\"\u001b[39m\n\u001b[0;32m    320\u001b[0m         \u001b[38;5;124m\"\u001b[39m\u001b[38;5;124mas it is likely to crash IPython. If you know what you are doing, \u001b[39m\u001b[38;5;124m\"\u001b[39m\n\u001b[0;32m    321\u001b[0m         \u001b[38;5;124m\"\u001b[39m\u001b[38;5;124myou can use builtins\u001b[39m\u001b[38;5;124m'\u001b[39m\u001b[38;5;124m open.\u001b[39m\u001b[38;5;124m\"\u001b[39m\n\u001b[0;32m    322\u001b[0m     )\n\u001b[1;32m--> 324\u001b[0m \u001b[38;5;28;01mreturn\u001b[39;00m \u001b[43mio_open\u001b[49m\u001b[43m(\u001b[49m\u001b[43mfile\u001b[49m\u001b[43m,\u001b[49m\u001b[43m \u001b[49m\u001b[38;5;241;43m*\u001b[39;49m\u001b[43margs\u001b[49m\u001b[43m,\u001b[49m\u001b[43m \u001b[49m\u001b[38;5;241;43m*\u001b[39;49m\u001b[38;5;241;43m*\u001b[39;49m\u001b[43mkwargs\u001b[49m\u001b[43m)\u001b[49m\n",
      "\u001b[1;31mFileNotFoundError\u001b[0m: [Errno 2] No such file or directory: 'valid_words.txt'"
     ]
    }
   ],
   "source": [
    "import random\n",
    "\n",
    "# Load valid words\n",
    "def load_words(file_path):\n",
    "    with open(file_path, \"r\") as file:\n",
    "        words = file.read().splitlines()\n",
    "    return [word.strip().lower() for word in words if len(word) == 5]\n",
    "\n",
    "# Select a random target word\n",
    "def select_target_word(word_list):\n",
    "    return random.choice(word_list)\n",
    "\n",
    "# Display feedback for a guess\n",
    "def provide_feedback(target, guess):\n",
    "    feedback = []  # List to store feedback for each letter\n",
    "    target_letters = list(target)\n",
    "    \n",
    "    for i, char in enumerate(guess):\n",
    "        if char == target_letters[i]:\n",
    "            feedback.append(\"Green\")  # Correct letter, correct position\n",
    "            target_letters[i] = None  # Mark as matched\n",
    "        elif char in target_letters:\n",
    "            feedback.append(\"Yellow\")  # Correct letter, wrong position\n",
    "            target_letters[target_letters.index(char)] = None  # Mark as matched\n",
    "        else:\n",
    "            feedback.append(\"Gray\")  # Incorrect letter\n",
    "    return feedback\n",
    "\n",
    "# Main game function\n",
    "def play_wordle():\n",
    "    # Load words and select target\n",
    "    word_list = load_words(\"valid_words.txt\")\n",
    "    target_word = select_target_word(word_list)\n",
    "    \n",
    "    print(\"Welcome to Wordle!\")\n",
    "    print(\"Guess the 5-letter word in 6 attempts.\\n\")\n",
    "    \n",
    "    attempts = 6\n",
    "    \n",
    "    while attempts > 0:\n",
    "        guess = input(\"Enter your guess: \").lower()\n",
    "        \n",
    "        # Validate guess\n",
    "        if guess not in word_list:\n",
    "            print(\"Invalid word. Try again.\")\n",
    "            continue\n",
    "        \n",
    "        # Provide feedback\n",
    "        feedback = provide_feedback(target_word, guess)\n",
    "        print(f\"Feedback: {feedback}\")\n",
    "        \n",
    "        # Check if the word is guessed correctly\n",
    "        if guess == target_word:\n",
    "            print(\"🎉 Congratulations! You've guessed the word!\")\n",
    "            break\n",
    "        \n",
    "        # Decrement attempts\n",
    "        attempts -= 1\n",
    "        print(f\"Attempts remaining: {attempts}\\n\")\n",
    "    \n",
    "    if attempts == 0:\n",
    "        print(f\"Game Over! The correct word was '{target_word}'.\")\n",
    "\n",
    "# Run the game\n",
    "if __name__ == \"__main__\":\n",
    "    play_wordle()\n"
   ]
  },
  {
   "cell_type": "code",
   "execution_count": 80,
   "id": "9441a63f-c85b-4325-8812-9e911c8d379f",
   "metadata": {},
   "outputs": [
    {
     "name": "stdout",
     "output_type": "stream",
     "text": [
      "\n",
      "this function simply sleeps\n",
      "\n",
      "---> Running sleeper_func\n",
      "sleeping for 2\n",
      "---> Completed sleeper_func in 2.0006747245788574\n"
     ]
    }
   ],
   "source": [
    "from functools import wraps\n",
    "import time\n",
    "def time_this(func):\n",
    "    '''\n",
    "    this function wraps\n",
    "    '''\n",
    "    @wraps(func)\n",
    "    def wrapper(*args, **kwargs):\n",
    "        '''\n",
    "        this function is what really wraps\n",
    "        '''\n",
    "        print(f'---> Running {func.__name__}')\n",
    "        start = time.time()\n",
    "        func(*args, **kwargs)\n",
    "        print(f'---> Completed {func.__name__} in {time.time() - start}')\n",
    "    return wrapper\n",
    "@time_this\n",
    "def sleeper_func(duration):\n",
    "    '''\n",
    "    this function simply sleeps\n",
    "    '''\n",
    "    print(f'sleeping for {duration}')\n",
    "    time.sleep(duration)\n",
    "\n",
    "print(sleeper_func.__doc__)\n",
    "sleeper_func(2)"
   ]
  },
  {
   "cell_type": "code",
   "execution_count": 81,
   "id": "b6d109f5-ac11-464f-a5e9-0cdce7b32977",
   "metadata": {},
   "outputs": [
    {
     "ename": "NameError",
     "evalue": "name 'get_word' is not defined",
     "output_type": "error",
     "traceback": [
      "\u001b[1;31m---------------------------------------------------------------------------\u001b[0m",
      "\u001b[1;31mNameError\u001b[0m                                 Traceback (most recent call last)",
      "Cell \u001b[1;32mIn[81], line 85\u001b[0m\n\u001b[0;32m     81\u001b[0m         play(word)\n\u001b[0;32m     84\u001b[0m \u001b[38;5;28;01mif\u001b[39;00m \u001b[38;5;18m__name__\u001b[39m \u001b[38;5;241m==\u001b[39m \u001b[38;5;124m\"\u001b[39m\u001b[38;5;124m__main__\u001b[39m\u001b[38;5;124m\"\u001b[39m:\n\u001b[1;32m---> 85\u001b[0m     \u001b[43mmain\u001b[49m\u001b[43m(\u001b[49m\u001b[43m)\u001b[49m\n",
      "Cell \u001b[1;32mIn[81], line 77\u001b[0m, in \u001b[0;36mmain\u001b[1;34m()\u001b[0m\n\u001b[0;32m     76\u001b[0m \u001b[38;5;28;01mdef\u001b[39;00m \u001b[38;5;21mmain\u001b[39m():\n\u001b[1;32m---> 77\u001b[0m     word \u001b[38;5;241m=\u001b[39m \u001b[43mget_word\u001b[49m()\n\u001b[0;32m     78\u001b[0m     play(word)\n\u001b[0;32m     79\u001b[0m     \u001b[38;5;28;01mwhile\u001b[39;00m \u001b[38;5;28minput\u001b[39m(\u001b[38;5;124m\"\u001b[39m\u001b[38;5;124mPlay Again? (Y/N) \u001b[39m\u001b[38;5;124m\"\u001b[39m)\u001b[38;5;241m.\u001b[39mupper() \u001b[38;5;241m==\u001b[39m \u001b[38;5;124m\"\u001b[39m\u001b[38;5;124mY\u001b[39m\u001b[38;5;124m\"\u001b[39m:\n",
      "\u001b[1;31mNameError\u001b[0m: name 'get_word' is not defined"
     ]
    }
   ],
   "source": [
    "def display_hangman(tries):\n",
    "    stages = [  # final state: head, torso, both arms, and both legs\n",
    "                \"\"\"\n",
    "                   --------\n",
    "                   |      |\n",
    "                   |      O\n",
    "                   |     \\\\|/\n",
    "                   |      |\n",
    "                   |     / \\\\\n",
    "                   -\n",
    "                \"\"\",\n",
    "                # head, torso, both arms, and one leg\n",
    "                \"\"\"\n",
    "                   --------\n",
    "                   |      |\n",
    "                   |      O\n",
    "                   |     \\\\|/\n",
    "                   |      |\n",
    "                   |     / \n",
    "                   -\n",
    "                \"\"\",\n",
    "                # head, torso, and both arms\n",
    "                \"\"\"\n",
    "                   --------\n",
    "                   |      |\n",
    "                   |      O\n",
    "                   |     \\\\|/\n",
    "                   |      |\n",
    "                   |      \n",
    "                   -\n",
    "                \"\"\",\n",
    "                # head, torso, and one arm\n",
    "                \"\"\"\n",
    "                   --------\n",
    "                   |      |\n",
    "                   |      O\n",
    "                   |     \\\\|\n",
    "                   |      |\n",
    "                   |     \n",
    "                   -\n",
    "                \"\"\",\n",
    "                # head and torso\n",
    "                \"\"\"\n",
    "                   --------\n",
    "                   |      |\n",
    "                   |      O\n",
    "                   |      |\n",
    "                   |      |\n",
    "                   |     \n",
    "                   -\n",
    "                \"\"\",\n",
    "                # head\n",
    "                \"\"\"\n",
    "                   --------\n",
    "                   |      |\n",
    "                   |      O\n",
    "                   |    \n",
    "                   |      \n",
    "                   |     \n",
    "                   -\n",
    "                \"\"\",\n",
    "                # initial empty state\n",
    "                \"\"\"\n",
    "                   --------\n",
    "                   |      |\n",
    "                   |      \n",
    "                   |    \n",
    "                   |      \n",
    "                   |     \n",
    "                   -\n",
    "                \"\"\"\n",
    "    ]\n",
    "    return stages[tries]\n",
    "\n",
    "\n",
    "def main():\n",
    "    word = get_word()\n",
    "    play(word)\n",
    "    while input(\"Play Again? (Y/N) \").upper() == \"Y\":\n",
    "        word = get_word()\n",
    "        play(word)\n",
    "\n",
    "\n",
    "if __name__ == \"__main__\":\n",
    "    main()"
   ]
  },
  {
   "cell_type": "code",
   "execution_count": null,
   "id": "7404e7d9-5495-41f7-b238-10d7b5d65287",
   "metadata": {},
   "outputs": [],
   "source": []
  }
 ],
 "metadata": {
  "kernelspec": {
   "display_name": "Python 3 (ipykernel)",
   "language": "python",
   "name": "python3"
  },
  "language_info": {
   "codemirror_mode": {
    "name": "ipython",
    "version": 3
   },
   "file_extension": ".py",
   "mimetype": "text/x-python",
   "name": "python",
   "nbconvert_exporter": "python",
   "pygments_lexer": "ipython3",
   "version": "3.13.0"
  }
 },
 "nbformat": 4,
 "nbformat_minor": 5
}
